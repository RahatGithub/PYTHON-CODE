{
 "cells": [
  {
   "cell_type": "code",
   "execution_count": 9,
   "id": "72c6e696",
   "metadata": {
    "scrolled": false
   },
   "outputs": [
    {
     "name": "stdout",
     "output_type": "stream",
     "text": [
      "Hello World\n",
      "svool dliow"
     ]
    }
   ],
   "source": [
    "import string\n",
    "a_to_z = string.ascii_lowercase\n",
    "\n",
    "msg = input()\n",
    "msg = msg.lower()\n",
    "\n",
    "for ch in msg:\n",
    "    if ch in abc: \n",
    "        index = a_to_z.index(ch)\n",
    "        print(a_to_z[-index-1], end=\"\")\n",
    "    else: \n",
    "        print(ch, end=\"\")"
   ]
  },
  {
   "cell_type": "code",
   "execution_count": null,
   "id": "28c0172a",
   "metadata": {},
   "outputs": [],
   "source": []
  }
 ],
 "metadata": {
  "kernelspec": {
   "display_name": "Python 3 (ipykernel)",
   "language": "python",
   "name": "python3"
  },
  "language_info": {
   "codemirror_mode": {
    "name": "ipython",
    "version": 3
   },
   "file_extension": ".py",
   "mimetype": "text/x-python",
   "name": "python",
   "nbconvert_exporter": "python",
   "pygments_lexer": "ipython3",
   "version": "3.9.12"
  }
 },
 "nbformat": 4,
 "nbformat_minor": 5
}
