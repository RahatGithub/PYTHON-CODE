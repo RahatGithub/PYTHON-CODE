{
 "cells": [
  {
   "cell_type": "code",
   "execution_count": 2,
   "id": "a8c38592",
   "metadata": {},
   "outputs": [],
   "source": [
    "import numpy as np\n",
    "import math\n",
    "\n",
    "data = np.array([150000, 125000, 320000, 540000, 200000, 120000, 160000, 230000, 280000, 290000, 300000, 500000, 420000, 100000, 150000, 280000])"
   ]
  },
  {
   "cell_type": "code",
   "execution_count": 4,
   "id": "978d89a8",
   "metadata": {},
   "outputs": [],
   "source": [
    "mean = np.mean(data)\n",
    "std = np.std(data)\n",
    "\n",
    "low,high = math.ceil(mean-std), math.ceil(mean+std)"
   ]
  },
  {
   "cell_type": "code",
   "execution_count": 15,
   "id": "f3067ab0",
   "metadata": {},
   "outputs": [],
   "source": [
    "one_std_to_mean = data[(data>low)&(data<high)]"
   ]
  },
  {
   "cell_type": "code",
   "execution_count": 17,
   "id": "5cec28b9",
   "metadata": {},
   "outputs": [
    {
     "data": {
      "text/plain": [
       "62.5"
      ]
     },
     "execution_count": 17,
     "metadata": {},
     "output_type": "execute_result"
    }
   ],
   "source": [
    "len(one_std_to_mean)*100/len(data)"
   ]
  },
  {
   "cell_type": "code",
   "execution_count": null,
   "id": "659ba1c2",
   "metadata": {},
   "outputs": [],
   "source": []
  }
 ],
 "metadata": {
  "kernelspec": {
   "display_name": "Python 3 (ipykernel)",
   "language": "python",
   "name": "python3"
  },
  "language_info": {
   "codemirror_mode": {
    "name": "ipython",
    "version": 3
   },
   "file_extension": ".py",
   "mimetype": "text/x-python",
   "name": "python",
   "nbconvert_exporter": "python",
   "pygments_lexer": "ipython3",
   "version": "3.9.12"
  }
 },
 "nbformat": 4,
 "nbformat_minor": 5
}
