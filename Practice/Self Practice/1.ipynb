{
 "cells": [
  {
   "cell_type": "code",
   "execution_count": 23,
   "id": "4e3ad4b2",
   "metadata": {},
   "outputs": [],
   "source": [
    "r = range(2, 15)"
   ]
  },
  {
   "cell_type": "code",
   "execution_count": 24,
   "id": "75f96807",
   "metadata": {},
   "outputs": [
    {
     "data": {
      "text/plain": [
       "range(2, 15)"
      ]
     },
     "execution_count": 24,
     "metadata": {},
     "output_type": "execute_result"
    }
   ],
   "source": [
    "r"
   ]
  },
  {
   "cell_type": "code",
   "execution_count": 25,
   "id": "d5c56735",
   "metadata": {},
   "outputs": [
    {
     "name": "stdout",
     "output_type": "stream",
     "text": [
      "2 3 4 5 6 7 8 9 10 11 12 13 14 "
     ]
    }
   ],
   "source": [
    "for x in r: print(x, end=\" \")"
   ]
  },
  {
   "cell_type": "code",
   "execution_count": 29,
   "id": "e7444644",
   "metadata": {},
   "outputs": [],
   "source": [
    "r = range(2, 21, 3)"
   ]
  },
  {
   "cell_type": "code",
   "execution_count": 31,
   "id": "07a9b352",
   "metadata": {},
   "outputs": [
    {
     "data": {
      "text/plain": [
       "range(2, 21, 3)"
      ]
     },
     "execution_count": 31,
     "metadata": {},
     "output_type": "execute_result"
    }
   ],
   "source": [
    "r"
   ]
  },
  {
   "cell_type": "code",
   "execution_count": 30,
   "id": "11fb579b",
   "metadata": {},
   "outputs": [
    {
     "name": "stdout",
     "output_type": "stream",
     "text": [
      "2 5 8 11 14 17 20 "
     ]
    }
   ],
   "source": [
    "for x in r: print(x, end=\" \")"
   ]
  },
  {
   "cell_type": "markdown",
   "id": "c59af2ec",
   "metadata": {},
   "source": [
    "# complex numbers"
   ]
  },
  {
   "cell_type": "code",
   "execution_count": 32,
   "id": "1c438458",
   "metadata": {},
   "outputs": [],
   "source": [
    "a = 5+3j \n",
    "b = 5-3j "
   ]
  },
  {
   "cell_type": "code",
   "execution_count": 33,
   "id": "1aa8e07c",
   "metadata": {},
   "outputs": [
    {
     "data": {
      "text/plain": [
       "(5+3j)"
      ]
     },
     "execution_count": 33,
     "metadata": {},
     "output_type": "execute_result"
    }
   ],
   "source": [
    "a"
   ]
  },
  {
   "cell_type": "code",
   "execution_count": 34,
   "id": "5d6a7c4c",
   "metadata": {},
   "outputs": [
    {
     "data": {
      "text/plain": [
       "(10+0j)"
      ]
     },
     "execution_count": 34,
     "metadata": {},
     "output_type": "execute_result"
    }
   ],
   "source": [
    "a+b"
   ]
  },
  {
   "cell_type": "markdown",
   "id": "d0363bbb",
   "metadata": {},
   "source": [
    "# long numbers"
   ]
  },
  {
   "cell_type": "code",
   "execution_count": 43,
   "id": "d95799a8",
   "metadata": {},
   "outputs": [],
   "source": [
    "a = 50_00_00_000 #use of '_' to make long numbers more readable "
   ]
  },
  {
   "cell_type": "code",
   "execution_count": 44,
   "id": "76896544",
   "metadata": {},
   "outputs": [
    {
     "data": {
      "text/plain": [
       "500000000"
      ]
     },
     "execution_count": 44,
     "metadata": {},
     "output_type": "execute_result"
    }
   ],
   "source": [
    "a"
   ]
  },
  {
   "cell_type": "code",
   "execution_count": 45,
   "id": "7fac243b",
   "metadata": {},
   "outputs": [
    {
     "data": {
      "text/plain": [
       "int"
      ]
     },
     "execution_count": 45,
     "metadata": {},
     "output_type": "execute_result"
    }
   ],
   "source": [
    "type(a)"
   ]
  },
  {
   "cell_type": "markdown",
   "id": "4ead6aee",
   "metadata": {},
   "source": [
    "# List indexing, slicing"
   ]
  },
  {
   "cell_type": "code",
   "execution_count": 48,
   "id": "fafa735e",
   "metadata": {},
   "outputs": [],
   "source": [
    "students = [\"bustan\", \"shashi\", \"lukman\", \"nahiyan\", \"mustafiz\", \"mahin\", \"shafi\", \"shaon\"] \n",
    "# total number of elements: 8"
   ]
  },
  {
   "cell_type": "code",
   "execution_count": 49,
   "id": "c067a728",
   "metadata": {},
   "outputs": [],
   "source": [
    "# normally index of \"lukman\" is 2 \n",
    "# but in reverse indexing, the index will be- \n",
    "# = normal index - total elements\n",
    "# = 2 - 8 \n",
    "# = -6 "
   ]
  },
  {
   "cell_type": "code",
   "execution_count": 50,
   "id": "62d1a230",
   "metadata": {},
   "outputs": [
    {
     "data": {
      "text/plain": [
       "['bustan', 'shashi', 'lukman', 'nahiyan', 'mustafiz', 'mahin']"
      ]
     },
     "execution_count": 50,
     "metadata": {},
     "output_type": "execute_result"
    }
   ],
   "source": [
    "students[:6]"
   ]
  },
  {
   "cell_type": "code",
   "execution_count": 52,
   "id": "1a8e1b41",
   "metadata": {},
   "outputs": [
    {
     "data": {
      "text/plain": [
       "['bustan',\n",
       " 'shashi',\n",
       " 'lukman',\n",
       " 'nahiyan',\n",
       " 'mustafiz',\n",
       " 'mahin',\n",
       " 'shafi',\n",
       " 'shaon']"
      ]
     },
     "execution_count": 52,
     "metadata": {},
     "output_type": "execute_result"
    }
   ],
   "source": [
    "students[:8]  # max list index is 7 but slicing allows us to use 8 because it works before this index"
   ]
  },
  {
   "cell_type": "code",
   "execution_count": 53,
   "id": "3dcc8a19",
   "metadata": {},
   "outputs": [
    {
     "data": {
      "text/plain": [
       "['nahiyan', 'mustafiz', 'mahin']"
      ]
     },
     "execution_count": 53,
     "metadata": {},
     "output_type": "execute_result"
    }
   ],
   "source": [
    "students[3:6]"
   ]
  },
  {
   "cell_type": "code",
   "execution_count": 59,
   "id": "d53711f6",
   "metadata": {},
   "outputs": [
    {
     "data": {
      "text/plain": [
       "['bustan', 'shashi', 'lukman']"
      ]
     },
     "execution_count": 59,
     "metadata": {},
     "output_type": "execute_result"
    }
   ],
   "source": [
    "students[:3]"
   ]
  },
  {
   "cell_type": "code",
   "execution_count": 58,
   "id": "5df73a2b",
   "metadata": {
    "scrolled": true
   },
   "outputs": [
    {
     "data": {
      "text/plain": [
       "['nahiyan', 'mustafiz', 'mahin', 'shafi', 'shaon']"
      ]
     },
     "execution_count": 58,
     "metadata": {},
     "output_type": "execute_result"
    }
   ],
   "source": [
    "students[3:]"
   ]
  },
  {
   "cell_type": "code",
   "execution_count": 63,
   "id": "63653351",
   "metadata": {},
   "outputs": [
    {
     "data": {
      "text/plain": [
       "['lukman', 'mustafiz', 'shafi']"
      ]
     },
     "execution_count": 63,
     "metadata": {},
     "output_type": "execute_result"
    }
   ],
   "source": [
    "students[2:8:2] # every third element that has the index between 2 and 8"
   ]
  },
  {
   "cell_type": "code",
   "execution_count": 67,
   "id": "050d61a0",
   "metadata": {},
   "outputs": [
    {
     "data": {
      "text/plain": [
       "['mustafiz', 'nahiyan', 'lukman', 'shashi', 'bustan']"
      ]
     },
     "execution_count": 67,
     "metadata": {},
     "output_type": "execute_result"
    }
   ],
   "source": [
    "students[-4::-1] "
   ]
  },
  {
   "cell_type": "markdown",
   "id": "f656856b",
   "metadata": {},
   "source": [
    "# string format"
   ]
  },
  {
   "cell_type": "markdown",
   "id": "42c11838",
   "metadata": {},
   "source": [
    "Type 1"
   ]
  },
  {
   "cell_type": "code",
   "execution_count": 86,
   "id": "96108b32",
   "metadata": {},
   "outputs": [],
   "source": [
    "name, age, town = \"thomas shelby\", 37, \"new york\""
   ]
  },
  {
   "cell_type": "code",
   "execution_count": null,
   "id": "5f289dfa",
   "metadata": {},
   "outputs": [],
   "source": [
    "print(msg.format(name, age, town))"
   ]
  },
  {
   "cell_type": "code",
   "execution_count": 87,
   "id": "e3517314",
   "metadata": {},
   "outputs": [],
   "source": [
    "msg = \"This is {}. He's {} and currently living in {}\""
   ]
  },
  {
   "cell_type": "code",
   "execution_count": 85,
   "id": "06edc328",
   "metadata": {},
   "outputs": [
    {
     "ename": "KeyError",
     "evalue": "'name'",
     "output_type": "error",
     "traceback": [
      "\u001b[1;31m---------------------------------------------------------------------------\u001b[0m",
      "\u001b[1;31mKeyError\u001b[0m                                  Traceback (most recent call last)",
      "Input \u001b[1;32mIn [85]\u001b[0m, in \u001b[0;36m<cell line: 1>\u001b[1;34m()\u001b[0m\n\u001b[1;32m----> 1\u001b[0m \u001b[38;5;28mprint\u001b[39m(\u001b[43mmsg\u001b[49m\u001b[38;5;241;43m.\u001b[39;49m\u001b[43mformat\u001b[49m\u001b[43m(\u001b[49m\u001b[43mname\u001b[49m\u001b[43m,\u001b[49m\u001b[43m \u001b[49m\u001b[43mage\u001b[49m\u001b[43m,\u001b[49m\u001b[43m \u001b[49m\u001b[43mtown\u001b[49m\u001b[43m)\u001b[49m)\n",
      "\u001b[1;31mKeyError\u001b[0m: 'name'"
     ]
    }
   ],
   "source": [
    "print(msg.format(name, age, town))"
   ]
  },
  {
   "cell_type": "code",
   "execution_count": 88,
   "id": "bedd2a7e",
   "metadata": {},
   "outputs": [
    {
     "data": {
      "text/plain": [
       "\"This is thomas shelby. He's 37 and currently living in new york\""
      ]
     },
     "execution_count": 88,
     "metadata": {},
     "output_type": "execute_result"
    }
   ],
   "source": [
    "msg.format(name, age, town)"
   ]
  },
  {
   "cell_type": "markdown",
   "id": "a8f4f236",
   "metadata": {},
   "source": [
    "Type 2"
   ]
  },
  {
   "cell_type": "code",
   "execution_count": 93,
   "id": "d8703a6c",
   "metadata": {},
   "outputs": [],
   "source": [
    "msg = f\"My name is {name}, I am {age} years young and I live in {town}\" "
   ]
  },
  {
   "cell_type": "code",
   "execution_count": 94,
   "id": "61f37800",
   "metadata": {},
   "outputs": [
    {
     "data": {
      "text/plain": [
       "'My name is thomas shelby, I am 37 years young and I live in new york'"
      ]
     },
     "execution_count": 94,
     "metadata": {},
     "output_type": "execute_result"
    }
   ],
   "source": [
    "msg"
   ]
  },
  {
   "cell_type": "code",
   "execution_count": 100,
   "id": "426de273",
   "metadata": {},
   "outputs": [],
   "source": [
    "limit = 10\n",
    "txt = f\"the range from 0 to {limit}- {[x for x in range(limit)]}\" "
   ]
  },
  {
   "cell_type": "code",
   "execution_count": 101,
   "id": "ff7deccf",
   "metadata": {},
   "outputs": [
    {
     "data": {
      "text/plain": [
       "'the range from 0 to 10- [0, 1, 2, 3, 4, 5, 6, 7, 8, 9]'"
      ]
     },
     "execution_count": 101,
     "metadata": {},
     "output_type": "execute_result"
    }
   ],
   "source": [
    "txt"
   ]
  },
  {
   "cell_type": "markdown",
   "id": "71f897fd",
   "metadata": {},
   "source": [
    "# string operations"
   ]
  },
  {
   "cell_type": "code",
   "execution_count": null,
   "id": "2d1a6c30",
   "metadata": {},
   "outputs": [],
   "source": [
    "s = "
   ]
  }
 ],
 "metadata": {
  "kernelspec": {
   "display_name": "Python 3 (ipykernel)",
   "language": "python",
   "name": "python3"
  },
  "language_info": {
   "codemirror_mode": {
    "name": "ipython",
    "version": 3
   },
   "file_extension": ".py",
   "mimetype": "text/x-python",
   "name": "python",
   "nbconvert_exporter": "python",
   "pygments_lexer": "ipython3",
   "version": "3.9.12"
  }
 },
 "nbformat": 4,
 "nbformat_minor": 5
}
