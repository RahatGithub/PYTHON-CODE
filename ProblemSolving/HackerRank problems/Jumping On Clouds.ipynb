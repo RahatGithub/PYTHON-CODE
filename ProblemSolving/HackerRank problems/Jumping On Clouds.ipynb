{
 "cells": [
  {
   "cell_type": "code",
   "execution_count": 8,
   "id": "1d7c1973",
   "metadata": {},
   "outputs": [],
   "source": [
    "# Solution 1\n",
    "\n",
    "n = int(input())\n",
    "clouds = list(map(int, input().split()))\n",
    "\n",
    "jumps = 0\n",
    "if len(clouds) < 4:\n",
    "    jumps = 1\n",
    "else:\n",
    "    pos = 0\n",
    "    while True:\n",
    "        if pos+2 < len(clouds):\n",
    "            if clouds[pos+2] == 0:\n",
    "                pos += 2\n",
    "                jumps += 1\n",
    "            else:\n",
    "                pos += 1\n",
    "                jumps += 1\n",
    "        elif pos+1 < len(clouds):\n",
    "                pos += 1\n",
    "                jumps += 1\n",
    "        else:\n",
    "            break\n",
    "    \n",
    "print('pos:', pos)\n",
    "print('jumps:', jumps)"
   ]
  },
  {
   "cell_type": "code",
   "execution_count": null,
   "id": "08785850",
   "metadata": {},
   "outputs": [],
   "source": []
  },
  {
   "cell_type": "code",
   "execution_count": null,
   "id": "5770671a",
   "metadata": {},
   "outputs": [],
   "source": []
  }
 ],
 "metadata": {
  "kernelspec": {
   "display_name": "Python 3 (ipykernel)",
   "language": "python",
   "name": "python3"
  },
  "language_info": {
   "codemirror_mode": {
    "name": "ipython",
    "version": 3
   },
   "file_extension": ".py",
   "mimetype": "text/x-python",
   "name": "python",
   "nbconvert_exporter": "python",
   "pygments_lexer": "ipython3",
   "version": "3.9.12"
  }
 },
 "nbformat": 4,
 "nbformat_minor": 5
}
