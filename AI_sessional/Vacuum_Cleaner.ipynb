{
 "cells": [
  {
   "cell_type": "code",
   "execution_count": 9,
   "id": "52adb03d",
   "metadata": {},
   "outputs": [
    {
     "name": "stdout",
     "output_type": "stream",
     "text": [
      "BFS Cost: 100 \n",
      "\n",
      "DFS Cost: 91 \n",
      "\n"
     ]
    }
   ],
   "source": [
    "from collections import deque\n",
    "\n",
    "dx = [+1, -1, 0, 0]\n",
    "dy = [0, 0, +1, -1]\n",
    "grid = [[0] * 10 for _ in range(10)]\n",
    "vis = [[0] * 10 for _ in range(10)]\n",
    "bfsC = 0\n",
    "dfsC = 0\n",
    "tot = 11\n",
    "totC = 0\n",
    "\n",
    "def bfs():\n",
    "    global bfsC, totC\n",
    "    q = deque([(9, 0)])\n",
    "    vis[9][0] = 1\n",
    "\n",
    "    while q:\n",
    "        bfsC += 1\n",
    "        x, y = q.popleft()\n",
    "\n",
    "        if grid[x][y] == 1:\n",
    "            grid[x][y] = 0\n",
    "            totC += 1\n",
    "            if totC == tot:\n",
    "                return\n",
    "        \n",
    "        for d in range(4):\n",
    "            curx, cury = x + dx[d], y + dy[d]\n",
    "            if 0 <= curx < 10 and 0 <= cury < 10 and vis[curx][cury] == 0:\n",
    "                q.append((curx, cury))\n",
    "                vis[curx][cury] = 1\n",
    "\n",
    "def dfs(x, y):\n",
    "    global dfsC, totC\n",
    "    dfsC += 1\n",
    "\n",
    "    if grid[x][y] == 1:\n",
    "        grid[x][y] = 0\n",
    "        totC += 1\n",
    "        if totC == tot:\n",
    "            return\n",
    "\n",
    "    if vis[x][y] == 1:\n",
    "        return\n",
    "    else:\n",
    "        vis[x][y] = 1\n",
    "\n",
    "    for d in range(4):\n",
    "        curx, cury = x + dx[d], y + dy[d]\n",
    "        if 0 <= curx < 10 and 0 <= cury < 10 and vis[curx][cury] == 0 and tot != totC:\n",
    "            dfs(curx, cury)\n",
    "\n",
    "def main():\n",
    "    global totC, bfsC, dfsC, grid, vis\n",
    "    # marking the cells that have dirt by setting the value 1\n",
    "    grid[0][3] = grid[0][9] = grid[1][1] = grid[1][5] = grid[3][4] = grid[3][8] = grid[5][1] = grid[6][7] = grid[8][6] = grid[9][2] = grid[9][8] = 1\n",
    "\n",
    "    bfs()\n",
    "    print(\"BFS Cost:\", bfsC, \"\\n\")\n",
    "\n",
    "    # reinitializing the value of visited cells to 0\n",
    "    vis = [[0] * 10 for _ in range(10)]\n",
    "\n",
    "    totC = 0\n",
    "\n",
    "    grid = [[0] * 10 for _ in range(10)]\n",
    "    grid[0][3] = grid[0][9] = grid[1][1] = grid[1][5] = grid[3][4] = grid[3][8] = grid[5][1] = grid[6][7] = grid[8][6] = grid[9][2] = grid[9][8] = 1\n",
    "\n",
    "    dfs(9, 0)\n",
    "    print(\"DFS Cost:\", dfsC, \"\\n\")\n",
    "\n",
    "if __name__ == \"__main__\":\n",
    "    main()"
   ]
  },
  {
   "cell_type": "code",
   "execution_count": 5,
   "id": "7b601fa1",
   "metadata": {},
   "outputs": [
    {
     "name": "stdout",
     "output_type": "stream",
     "text": [
      "(9, 0)\n"
     ]
    }
   ],
   "source": [
    "from collections import deque\n",
    "q = deque([(9, 0)])\n",
    "for x in q:\n",
    "    print(x)"
   ]
  },
  {
   "cell_type": "code",
   "execution_count": null,
   "id": "1db3d02f",
   "metadata": {},
   "outputs": [],
   "source": []
  }
 ],
 "metadata": {
  "kernelspec": {
   "display_name": "Python 3 (ipykernel)",
   "language": "python",
   "name": "python3"
  },
  "language_info": {
   "codemirror_mode": {
    "name": "ipython",
    "version": 3
   },
   "file_extension": ".py",
   "mimetype": "text/x-python",
   "name": "python",
   "nbconvert_exporter": "python",
   "pygments_lexer": "ipython3",
   "version": "3.9.12"
  }
 },
 "nbformat": 4,
 "nbformat_minor": 5
}
