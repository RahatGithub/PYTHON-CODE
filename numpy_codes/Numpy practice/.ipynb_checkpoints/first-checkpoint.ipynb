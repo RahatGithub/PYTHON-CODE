{
 "cells": [
  {
   "cell_type": "markdown",
   "id": "e7f2d3a4",
   "metadata": {},
   "source": [
    "# This is numpy practice 1"
   ]
  },
  {
   "cell_type": "code",
   "execution_count": 1,
   "id": "05633fa3",
   "metadata": {},
   "outputs": [],
   "source": [
    "import numpy as np"
   ]
  },
  {
   "cell_type": "code",
   "execution_count": 2,
   "id": "350a6f2e",
   "metadata": {},
   "outputs": [],
   "source": [
    "arr = np.array([(2, 4, 8, 11, 12, 19), (12, 14, 13, 11, 31, 78), (\"Nafe\", \"Rafe\", \"Share\", \"Fare\", \"Pakhi\", \"Barek\")])"
   ]
  },
  {
   "cell_type": "code",
   "execution_count": 3,
   "id": "167ffc58",
   "metadata": {},
   "outputs": [
    {
     "data": {
      "text/plain": [
       "2"
      ]
     },
     "execution_count": 3,
     "metadata": {},
     "output_type": "execute_result"
    }
   ],
   "source": [
    "arr.ndim"
   ]
  },
  {
   "cell_type": "code",
   "execution_count": 4,
   "id": "21d28b41",
   "metadata": {},
   "outputs": [
    {
     "data": {
      "text/plain": [
       "(3, 6)"
      ]
     },
     "execution_count": 4,
     "metadata": {},
     "output_type": "execute_result"
    }
   ],
   "source": [
    "arr.shape"
   ]
  },
  {
   "cell_type": "code",
   "execution_count": 5,
   "id": "3dd315eb",
   "metadata": {},
   "outputs": [
    {
     "data": {
      "text/plain": [
       "dtype('<U11')"
      ]
     },
     "execution_count": 5,
     "metadata": {},
     "output_type": "execute_result"
    }
   ],
   "source": [
    "arr.dtype"
   ]
  },
  {
   "cell_type": "code",
   "execution_count": 6,
   "id": "22d2d6d6",
   "metadata": {},
   "outputs": [
    {
     "name": "stdout",
     "output_type": "stream",
     "text": [
      "[['2' '4' '8' '11' '12' '19']\n",
      " ['12' '14' '13' '11' '31' '78']\n",
      " ['Nafe' 'Rafe' 'Share' 'Fare' 'Pakhi' 'Barek']]\n",
      "[['2' '4' '8']\n",
      " ['11' '12' '19']\n",
      " ['12' '14' '13']\n",
      " ['11' '31' '78']\n",
      " ['Nafe' 'Rafe' 'Share']\n",
      " ['Fare' 'Pakhi' 'Barek']]\n"
     ]
    }
   ],
   "source": [
    "print(arr)\n",
    "arr = arr.reshape(6,3)\n",
    "print(arr)"
   ]
  },
  {
   "cell_type": "code",
   "execution_count": 7,
   "id": "0437a2a3",
   "metadata": {},
   "outputs": [
    {
     "data": {
      "text/plain": [
       "array([['2', '4', '8'],\n",
       "       ['11', '12', '19'],\n",
       "       ['12', '14', '13'],\n",
       "       ['11', '31', '78'],\n",
       "       ['Nafe', 'Rafe', 'Share'],\n",
       "       ['Fare', 'Pakhi', 'Barek']], dtype='<U11')"
      ]
     },
     "execution_count": 7,
     "metadata": {},
     "output_type": "execute_result"
    }
   ],
   "source": [
    "arr"
   ]
  }
 ],
 "metadata": {
  "kernelspec": {
   "display_name": "Python 3 (ipykernel)",
   "language": "python",
   "name": "python3"
  },
  "language_info": {
   "codemirror_mode": {
    "name": "ipython",
    "version": 3
   },
   "file_extension": ".py",
   "mimetype": "text/x-python",
   "name": "python",
   "nbconvert_exporter": "python",
   "pygments_lexer": "ipython3",
   "version": "3.9.5"
  }
 },
 "nbformat": 4,
 "nbformat_minor": 5
}
