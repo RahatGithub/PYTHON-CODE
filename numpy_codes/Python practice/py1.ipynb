{
 "cells": [
  {
   "cell_type": "markdown",
   "id": "6124951b",
   "metadata": {},
   "source": [
    "# zip function"
   ]
  },
  {
   "cell_type": "code",
   "execution_count": 21,
   "id": "94f50611",
   "metadata": {},
   "outputs": [
    {
     "data": {
      "text/plain": [
       "[('Saleh', 'Rafiqul'),\n",
       " ('Barek', 'Shafiqul'),\n",
       " ('Nafe', 'Muminul'),\n",
       " ('Share', 'Rejaul'),\n",
       " ('Pakhi', 'Robiul'),\n",
       " ('Rasel', 'Enamul'),\n",
       " ('Jabbir', 'Foriul')]"
      ]
     },
     "execution_count": 21,
     "metadata": {},
     "output_type": "execute_result"
    }
   ],
   "source": [
    "engineers = [\"Rafiqul\", \"Shafiqul\", \"Muminul\", \"Rejaul\", \"Robiul\", \"Enamul\", \"Foriul\"]\n",
    "stuff = [\"Saleh\", \"Barek\", \"Nafe\", \"Share\", \"Pakhi\", \"Rasel\", \"Jabbir\"]\n",
    "\n",
    "res = [(x,y) for x,y in zip(stuff, engineers)]\n",
    "\n",
    "res"
   ]
  },
  {
   "cell_type": "markdown",
   "id": "8325e97f",
   "metadata": {},
   "source": [
    "# creating a list using range"
   ]
  },
  {
   "cell_type": "code",
   "execution_count": 29,
   "id": "6c3f9296",
   "metadata": {},
   "outputs": [],
   "source": [
    "import sys \n",
    "import time"
   ]
  },
  {
   "cell_type": "code",
   "execution_count": 30,
   "id": "73c312d1",
   "metadata": {},
   "outputs": [
    {
     "data": {
      "text/plain": [
       "856"
      ]
     },
     "execution_count": 30,
     "metadata": {},
     "output_type": "execute_result"
    }
   ],
   "source": [
    "R = range(100)\n",
    "\n",
    "li = list(R)\n",
    "\n",
    "s = sys.getsizeof(li)\n",
    "\n",
    "s"
   ]
  },
  {
   "cell_type": "code",
   "execution_count": 35,
   "id": "dc2b47eb",
   "metadata": {},
   "outputs": [
    {
     "data": {
      "text/plain": [
       "1040"
      ]
     },
     "execution_count": 35,
     "metadata": {},
     "output_type": "execute_result"
    }
   ],
   "source": [
    "import numpy as np\n",
    "\n",
    "li = np.arange(100)\n",
    "\n",
    "s = li.size\n",
    "\n",
    "s"
   ]
  },
  {
   "cell_type": "code",
   "execution_count": null,
   "id": "a403de80",
   "metadata": {},
   "outputs": [],
   "source": []
  },
  {
   "cell_type": "code",
   "execution_count": 2,
   "id": "7951a23d",
   "metadata": {},
   "outputs": [],
   "source": [
    "results = [ { 'math' : {'total':100, 'obtained':85},\n",
    "              'english' : {'total':100, 'obtained':75},\n",
    "              'IQ' : {'total':200, 'obtained':174} },\n",
    "            { 'math' : {'total':100, 'obtained':85},\n",
    "              'english' : {'total':100, 'obtained':75},\n",
    "              'IQ' : {'total':200, 'obtained':174} },\n",
    "            { 'math' : {'total':100, 'obtained':85},\n",
    "              'english' : {'total':100, 'obtained':75},\n",
    "              'IQ' : {'total':200, 'obtained':174} }\n",
    "          ]"
   ]
  },
  {
   "cell_type": "code",
   "execution_count": 6,
   "id": "e5b15258",
   "metadata": {},
   "outputs": [
    {
     "name": "stdout",
     "output_type": "stream",
     "text": [
      "85\n",
      "85\n",
      "85\n"
     ]
    }
   ],
   "source": [
    "for res in results: \n",
    "    print(res['math']['obtained'])"
   ]
  },
  {
   "cell_type": "code",
   "execution_count": null,
   "id": "c2f63ea9",
   "metadata": {},
   "outputs": [],
   "source": []
  }
 ],
 "metadata": {
  "kernelspec": {
   "display_name": "Python 3 (ipykernel)",
   "language": "python",
   "name": "python3"
  },
  "language_info": {
   "codemirror_mode": {
    "name": "ipython",
    "version": 3
   },
   "file_extension": ".py",
   "mimetype": "text/x-python",
   "name": "python",
   "nbconvert_exporter": "python",
   "pygments_lexer": "ipython3",
   "version": "3.9.12"
  }
 },
 "nbformat": 4,
 "nbformat_minor": 5
}
